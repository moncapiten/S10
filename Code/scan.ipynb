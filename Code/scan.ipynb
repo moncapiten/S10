{
 "cells": [
  {
   "cell_type": "code",
   "execution_count": 6,
   "metadata": {},
   "outputs": [
    {
     "name": "stdout",
     "output_type": "stream",
     "text": [
      "Dispositivo #1 [SN:210321ABE62D, hdwf=1] connesso!\n",
      "Configurazione #1\n",
      "Bus I2C pronto...\n",
      "Found device @SAD: 0x68\n",
      "Dispositivo disconnesso.\n"
     ]
    }
   ],
   "source": [
    "import tdwf\n",
    "ad2 = tdwf.AD2()\n",
    "ad2.vdd = 3.3\n",
    "ad2.power(True)\n",
    "i2c = tdwf.I2Cbus(ad2.hdwf)\n",
    "devs = i2c.scan()\n",
    "for dev in devs:\n",
    "    print(f\"Found device @SAD: 0x{dev:02x}\")\n",
    "ad2.close()"
   ]
  }
 ],
 "metadata": {
  "kernelspec": {
   "display_name": "Python 3",
   "language": "python",
   "name": "python3"
  },
  "language_info": {
   "codemirror_mode": {
    "name": "ipython",
    "version": 3
   },
   "file_extension": ".py",
   "mimetype": "text/x-python",
   "name": "python",
   "nbconvert_exporter": "python",
   "pygments_lexer": "ipython3",
   "version": "3.12.6"
  }
 },
 "nbformat": 4,
 "nbformat_minor": 2
}
